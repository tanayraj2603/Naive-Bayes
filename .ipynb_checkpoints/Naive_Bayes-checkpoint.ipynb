{
 "cells": [
  {
   "cell_type": "code",
   "execution_count": null,
   "metadata": {},
   "outputs": [],
   "source": [
    "import pandas as pd\n",
    "import seaborn as sns\n",
    "\n",
    "df_train=pd.read_csv('train.csv')\n",
    "df_test=pd.read_csv('test.csv')"
   ]
  },
  {
   "cell_type": "code",
   "execution_count": null,
   "metadata": {},
   "outputs": [],
   "source": [
    "sexos={\"male\":0, \"female\":1}\n",
    "df_train.Sex=[sexos[item] for item in df_train.Sex]\n",
    "df_test.Sex=[sexos[item] for item in df_test.Sex]\n",
    "\n",
    "df_train.Age.fillna(df_train.Age.mean(), inplace=True)\n",
    "df_test.Age.fillna(df_test.Age.mean(), inplace=True)\n",
    "\n",
    "df_train.Age=df_train.Age.astype(int)\n",
    "df_test.Age=df_test.Age.astype(int)\n",
    "\n",
    "sns.violinplot(x='Pclass', y='Age', hue='Survived', data=df_train, split=True)\n",
    "\n",
    "#Ages grouped\n",
    "data = [df_train, df_test]\n",
    "for dataset in data:\n",
    "    dataset.loc[ dataset['Age'] <= 11, 'Age'] = 0\n",
    "    dataset.loc[(dataset['Age'] > 11) & (dataset['Age'] <= 18), 'Age'] = 1\n",
    "    dataset.loc[(dataset['Age'] > 18) & (dataset['Age'] <= 22), 'Age'] = 2\n",
    "    dataset.loc[(dataset['Age'] > 22) & (dataset['Age'] <= 27), 'Age'] = 3\n",
    "    dataset.loc[(dataset['Age'] > 27) & (dataset['Age'] <= 33), 'Age'] = 4\n",
    "    dataset.loc[(dataset['Age'] > 33) & (dataset['Age'] <= 40), 'Age'] = 5\n",
    "    dataset.loc[(dataset['Age'] > 40) & (dataset['Age'] <= 66), 'Age'] = 6\n",
    "    dataset.loc[ dataset['Age'] > 66, 'Age'] = 7"
   ]
  },
  {
   "cell_type": "code",
   "execution_count": null,
   "metadata": {},
   "outputs": [],
   "source": [
    "    \n",
    "Class_counts=df_train['Pclass'].value_counts()  \n",
    "p_Class=Class_counts/len(df_train)\n",
    "\n",
    "Sex_counts=df_train['Sex'].value_counts()\n",
    "p_Sex=Sex_counts/len(df_train)\n",
    "\n",
    "Age_counts=df_train['Age'].value_counts()\n",
    "p_Age=Age_counts/len(df_train)\n",
    "\n",
    "# Survival and Death probabilities\n",
    "y_counts=df_train['Survived'].value_counts()\n",
    "p_y=y_counts/len(df_train)\n",
    "\n",
    "df_survived=df_train.loc[df_train['Survived'] == 1]\n",
    "df_died=df_train.loc[df_train['Survived'] == 0]\n",
    "\n",
    "# Conditional probabilities\n",
    "#class/survived\n",
    "class_survived_counts=df_survived['Pclass'].value_counts()  \n",
    "p_class_survived=class_survived_counts/len(df_survived)\n",
    "\n",
    "# class/died\n",
    "class_died_counts=df_died['Pclass'].value_counts()  \n",
    "p_class_died=class_died_counts/len(df_died)\n",
    "\n",
    "#sex/survived\n",
    "sex_survived_counts=df_survived['Sex'].value_counts()  \n",
    "p_sex_survived=sex_survived_counts/len(df_survived)\n",
    "\n",
    "sex_died_counts=df_died['Sex'].value_counts()  \n",
    "p_sex_died=sex_died_counts/len(df_died)\n",
    "\n",
    "#Age/survived\n",
    "age_survived_counts=df_survived['Age'].value_counts()  \n",
    "p_age_survived=age_survived_counts/len(df_survived)\n",
    "\n",
    "age_died_counts=df_died['Age'].value_counts()  \n",
    "p_age_died=age_died_counts/len(df_died)"
   ]
  },
  {
   "cell_type": "code",
   "execution_count": null,
   "metadata": {},
   "outputs": [],
   "source": [
    "def Bayes(py, px1y, px2y, px3y, px1, px2, px3):\n",
    "    numerator=px1y*px2y*px3y*py\n",
    "    denominator=px1*px2*px3\n",
    "    p=numerator/denominator\n",
    "    return p"
   ]
  },
  {
   "cell_type": "code",
   "execution_count": null,
   "metadata": {},
   "outputs": [],
   "source": [
    "result_array=[]\n",
    "\n",
    "for i in range(0,418):\n",
    "    feature_class=df_test.iloc[i]['Pclass']\n",
    "    feature_sex=df_test.iloc[i]['Sex']\n",
    "    feature_age=df_test.iloc[i]['Age']\n",
    "    \n",
    "    P_Y1=Bayes(p_y[1], p_class_survived[feature_class], p_sex_survived[feature_sex], p_age_survived[feature_age], p_Class[feature_class], p_Sex[feature_sex], p_Age[feature_age])\n",
    "    P_Y0=Bayes(p_y[0], p_class_died[feature_class], p_sex_died[feature_sex], p_age_died[feature_age], p_Class[feature_class], p_Sex[feature_sex], p_Age[feature_age])\n",
    "    \n",
    "    if P_Y0 > P_Y1:\n",
    "        result=0\n",
    "    else:\n",
    "        result=1\n",
    "        \n",
    "    result_array.append(result)\n",
    "\n",
    "\n",
    "output = pd.DataFrame({'PassengerId': df_test.PassengerId,'Survived': result_array})\n",
    "output.to_csv('result.csv', index=False)"
   ]
  }
 ],
 "metadata": {
  "kernelspec": {
   "display_name": "Python 3",
   "language": "python",
   "name": "python3"
  },
  "language_info": {
   "codemirror_mode": {
    "name": "ipython",
    "version": 3
   },
   "file_extension": ".py",
   "mimetype": "text/x-python",
   "name": "python",
   "nbconvert_exporter": "python",
   "pygments_lexer": "ipython3",
   "version": "3.8.5"
  }
 },
 "nbformat": 4,
 "nbformat_minor": 4
}
